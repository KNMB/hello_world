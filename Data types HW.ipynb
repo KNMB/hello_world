{
 "cells": [
  {
   "cell_type": "markdown",
   "metadata": {},
   "source": [
    "## Exercise 1\n"
   ]
  },
  {
   "cell_type": "code",
   "execution_count": 23,
   "metadata": {},
   "outputs": [
    {
     "name": "stdout",
     "output_type": "stream",
     "text": [
      "1.65 60\n"
     ]
    }
   ],
   "source": [
    "Height_in_meters=1.65\n",
    "Weight_in_kg=60\n",
    "print (Height_in_meter, Weight_in_kg)"
   ]
  },
  {
   "cell_type": "code",
   "execution_count": 24,
   "metadata": {},
   "outputs": [
    {
     "name": "stdout",
     "output_type": "stream",
     "text": [
      "22.03856749311295\n"
     ]
    }
   ],
   "source": [
    "bmi = Weight_in_kg /(Height_in_meters**2)\n",
    "print (bmi)"
   ]
  },
  {
   "cell_type": "code",
   "execution_count": 25,
   "metadata": {},
   "outputs": [
    {
     "name": "stdout",
     "output_type": "stream",
     "text": [
      "My height is 1.65 meters, my weight is 60 Kgs, and my BMI is 22.03856749311295\n"
     ]
    }
   ],
   "source": [
    "print ('My height is', Height_in_meter, 'meters, my weight is', Weight_in_kg, 'Kgs, and my BMI is', bmi)"
   ]
  },
  {
   "cell_type": "code",
   "execution_count": 26,
   "metadata": {},
   "outputs": [
    {
     "name": "stdout",
     "output_type": "stream",
     "text": [
      "My height is 1.65 meters,\n",
      "my weight is 60 Kgs,\n",
      "and my bmi is 22.03856749311295\n"
     ]
    }
   ],
   "source": [
    "print ('My height is', Height_in_meter, 'meters,\\nmy weight is', Weight_in_kg, 'Kgs,\\nand my bmi is', bmi)"
   ]
  },
  {
   "cell_type": "code",
   "execution_count": 29,
   "metadata": {},
   "outputs": [
    {
     "name": "stdout",
     "output_type": "stream",
     "text": [
      "My height is 1.65 meters, my weight is 60 Kgs, and my BMI is 22.03856749311295.\n"
     ]
    }
   ],
   "source": [
    "print (\"My height is %s meters, my weight is %s Kgs, and my BMI is %s.\" %(Height_in_meters, Weight_in_kg, bmi))"
   ]
  },
  {
   "cell_type": "code",
   "execution_count": 30,
   "metadata": {},
   "outputs": [
    {
     "name": "stdout",
     "output_type": "stream",
     "text": [
      "My height is 1.65 meters, my weight is 60 Kgs, and my BMI is 22.03856749311295.\n"
     ]
    }
   ],
   "source": [
    "print (\"My height is {} meters, my weight is {} Kgs, and my BMI is {}.\" .format(Height_in_meters, Weight_in_kg, bmi))"
   ]
  },
  {
   "cell_type": "code",
   "execution_count": 32,
   "metadata": {},
   "outputs": [
    {
     "name": "stdout",
     "output_type": "stream",
     "text": [
      "My height is 1.65 meters, my weight is 60 Kgs, and my BMI is 22.04.\n"
     ]
    }
   ],
   "source": [
    "print (\"My height is %.2f meters, my weight is %d Kgs, and my BMI is %.2f.\" %(Height_in_meters, Weight_in_kg, bmi))"
   ]
  },
  {
   "cell_type": "markdown",
   "metadata": {},
   "source": [
    "# Exercise 2"
   ]
  },
  {
   "cell_type": "code",
   "execution_count": 55,
   "metadata": {},
   "outputs": [
    {
     "name": "stdout",
     "output_type": "stream",
     "text": [
      "Yelena Aprelev\n",
      "Yelena Aprelev\n",
      "14\n",
      "YElEnA AprElEv\n"
     ]
    }
   ],
   "source": [
    "first_name = 'Yelena'\n",
    "last_name = 'Aprelev'\n",
    "full_name = first_name + \" \" + last_name\n",
    "print(first_name, last_name)\n",
    "print(full_name)\n",
    "\n",
    "n_of_letters = len(full_name)\n",
    "print (n_of_letters)\n",
    "\n",
    "# vowels_letters in ['a', 'e', 'i', 'o', 'u']\n",
    "full_name1=full_name.replace('e', 'E').replace('a', 'A')\n",
    "print (full_name1)\n",
    "\n"
   ]
  },
  {
   "cell_type": "markdown",
   "metadata": {},
   "source": [
    "# Exercise 3"
   ]
  },
  {
   "cell_type": "code",
   "execution_count": 83,
   "metadata": {},
   "outputs": [
    {
     "name": "stdout",
     "output_type": "stream",
     "text": [
      "Haifa\n",
      "True\n",
      "True\n",
      "True\n"
     ]
    }
   ],
   "source": [
    "gender1, gender2 = 'Men', 'Women'\n",
    "age1, age2 = 47, 40\n",
    "city1, city2 = 'Haifa', 'Haifa'\n",
    "marital1, marital2 = True, True\n",
    "\n",
    "same_city = (city1 and city2)\n",
    "is_older = age1 > age2\n",
    "diff_gender = gender1 != gender2\n",
    "both_married = (marital1 and marital2)\n",
    "\n",
    "print (same_city)\n",
    "print (is_older)\n",
    "print (diff_gender)\n",
    "print (both_married)"
   ]
  },
  {
   "cell_type": "code",
   "execution_count": null,
   "metadata": {
    "collapsed": true
   },
   "outputs": [],
   "source": []
  }
 ],
 "metadata": {
  "kernelspec": {
   "display_name": "Python 3",
   "language": "python",
   "name": "python3"
  },
  "language_info": {
   "codemirror_mode": {
    "name": "ipython",
    "version": 3
   },
   "file_extension": ".py",
   "mimetype": "text/x-python",
   "name": "python",
   "nbconvert_exporter": "python",
   "pygments_lexer": "ipython3",
   "version": "3.6.3"
  }
 },
 "nbformat": 4,
 "nbformat_minor": 2
}
